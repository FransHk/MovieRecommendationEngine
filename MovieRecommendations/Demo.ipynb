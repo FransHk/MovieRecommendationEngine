{
 "cells": [
  {
   "cell_type": "code",
   "execution_count": 2,
   "metadata": {},
   "outputs": [],
   "source": [
    "import requests\n",
    "import json\n",
    "import pandas as pd\n",
    "api_key = \"2523f39c26f734591847049c3c35a4d6\"\n",
    "\n",
    "genre_URL = \"https://api.themoviedb.org/3/genre/movie/list\"\n",
    "discover_URL = \"https://api.themoviedb.org/3/discover/movie\"\n",
    "movie_id_URL = \"https://api.themoviedb.org/3/search/movie\""
   ]
  },
  {
   "cell_type": "code",
   "execution_count": 3,
   "metadata": {},
   "outputs": [],
   "source": [
    "class Person:\n",
    "    def __init__(self, name, prefs) -> None:\n",
    "        self.name = name\n",
    "        self.movie_prefs = prefs\n",
    "        self.fav_movies_str = [\"Ad Astra\", \"Tenet\", \"Inception\", \"Memento\"] \n",
    "        self.fav_movies = []\n",
    "\n",
    "    def movies_to_ids(self, get_movie_ID):\n",
    "        for movie in self.fav_movies_str:\n",
    "            id = get_movie_ID(movie)\n",
    "            if(id is not None):\n",
    "                self.fav_movies.append(id)\n",
    "        print(self.fav_movies)\n",
    "\n",
    "    "
   ]
  },
  {
   "cell_type": "code",
   "execution_count": 4,
   "metadata": {},
   "outputs": [],
   "source": [
    "# Return current genre dict given all genres present\n",
    "# in the API. \n",
    "# DICT: Category name (str) -> ID (int)\n",
    "def get_genre_dict():\n",
    "    # FETCH GENRE DICTIONARY\n",
    "    params = {\"api_key\": api_key, \"language\": \"en-US\"}\n",
    "    response = requests.get(genre_URL, params=params)\n",
    "    data = json.loads(response.text)\n",
    "    genres = data[\"genres\"]\n",
    "    genre_dict = {}\n",
    "\n",
    "    # Print the list of genre names and IDs\n",
    "    for genre in genres:\n",
    "        genre_dict[genre['name']] = genre['id']\n",
    "    \n",
    "    return genre_dict\n",
    "\n",
    "def get_movie_ID(name):\n",
    "\n",
    "    params = {\"api_key\": api_key, \"query\": \"{}\".format(name)}\n",
    "    response = requests.get(movie_id_URL, params=params)\n",
    "    movie_data = response.json()\n",
    "    if(movie_data[\"results\"] == []):\n",
    "        return None\n",
    "    \n",
    "    movie_id = movie_data[\"results\"][0][\"id\"]\n",
    "\n",
    "    print(\"Movie ID:\", movie_id)\n",
    "    return movie_id\n",
    "\n",
    "# Return appropriate URL for fetching movie details\n",
    "def return_details_URLs(num=550):\n",
    "    movie_url = \"https://api.themoviedb.org/3/movie/{}\".format(num)\n",
    "    credits_url = \"https://api.themoviedb.org/3/movie/{}/credits\".format(num)\n",
    "\n",
    "    return movie_url, credits_url\n",
    "\n",
    "# For each preference of user, find\n",
    "# correct id and append to list\n",
    "def get_genre_ids(person, dict):\n",
    "    ids = \"\"\n",
    "    pref_list = []\n",
    "    for elem in person.movie_prefs:\n",
    "        pref_list.append(str(dict[elem]))\n",
    "\n",
    "    my_string = \", \".join(pref_list)\n",
    "    \n",
    "    return my_string\n"
   ]
  },
  {
   "cell_type": "code",
   "execution_count": 7,
   "metadata": {},
   "outputs": [
    {
     "name": "stdout",
     "output_type": "stream",
     "text": [
      "Movie ID: 419704\n",
      "Title: Ad Astra\n",
      "Genres: Science Fiction, Drama\n",
      "Vote average: 6.099\n",
      "Vote count: 5934\n",
      "Main cast: Brad Pitt, Tommy Lee Jones, Ruth Negga, John Ortiz, Liv Tyler\n",
      "\n",
      "GENRE DICT: \n",
      " {'Action': 28, 'Adventure': 12, 'Animation': 16, 'Comedy': 35, 'Crime': 80, 'Documentary': 99, 'Drama': 18, 'Family': 10751, 'Fantasy': 14, 'History': 36, 'Horror': 27, 'Music': 10402, 'Mystery': 9648, 'Romance': 10749, 'Science Fiction': 878, 'TV Movie': 10770, 'Thriller': 53, 'War': 10752, 'Western': 37}\n"
     ]
    }
   ],
   "source": [
    "\n",
    "id = get_movie_ID(\"Ad Astra\")\n",
    "if(id is not None):\n",
    "    get_movie_details(id)\n",
    "\n",
    "print(\"\\nGENRE DICT: \\n\", get_genre_dict())"
   ]
  },
  {
   "cell_type": "code",
   "execution_count": 7,
   "metadata": {},
   "outputs": [
    {
     "name": "stdout",
     "output_type": "stream",
     "text": [
      "Title: Fight Club\n",
      "Genres: Drama, Thriller, Comedy\n",
      "Vote average: 8.434\n",
      "Vote count: 26525\n",
      "Director: David Fincher\n",
      "Duration in minutes: 139\n",
      "Main cast: Edward Norton, Brad Pitt, Helena Bonham Carter, Meat Loaf, Jared Leto\n"
     ]
    }
   ],
   "source": [
    "\n",
    "def get_movie_details(id=550):\n",
    "    # GET data for specific movie\n",
    "    params = {\"api_key\": api_key, \"language\": \"en-US\"}\n",
    "    movie_url, credits_url = return_details_URLs(id) # Fetch correctly formatted URL for getting details for movie \n",
    "\n",
    "    # Get response for both credits and movie details\n",
    "    response = requests.get(movie_url, params=params)\n",
    "    credits_response = requests.get(credits_url, params=params)\n",
    "\n",
    "    data = json.loads(response.text)\n",
    "    data_credits = json.loads(credits_response.text)\n",
    "\n",
    "    # Extract the relevant information\n",
    "    title = data[\"title\"]\n",
    "    genre_names = [genre[\"name\"] for genre in data[\"genres\"]]\n",
    "    vote_average = data[\"vote_average\"]\n",
    "    vote_count = data[\"vote_count\"]\n",
    "    cast = [actor[\"name\"] for actor in data_credits[\"cast\"][:5]]\n",
    "    director = next((person[\"name\"] for person in data_credits[\"crew\"] if person[\"job\"] == \"Director\"), \"Unknown\")\n",
    "    duration = data[\"runtime\"]  \n",
    "\n",
    "    print(f\"Title: {title}\")\n",
    "    print(f\"Genres: {', '.join(genre_names)}\")\n",
    "    print(f\"Vote average: {vote_average}\")\n",
    "    print(f\"Vote count: {vote_count}\")\n",
    "    print(f\"Director: {director}\")\n",
    "    print(f\"Duration in minutes: {duration}\")\n",
    "    print(f\"Main cast: {', '.join(cast)}\")\n",
    "    \n",
    "    return title, genre_names, vote_average, vote_count, cast, director, duration\n",
    "\n",
    "    # Print the extracted information\n",
    "\n",
    "get_movie_details()\n",
    "\n",
    "\n",
    "def movie_to_vector(id):\n",
    "    title, genre_names, vote_average, vote_count, cast, director, duration = get_movie_details(id)\n",
    "    data = {'directors': [1, 2], 'col2': [3, 4]}\n",
    "    \n",
    "    \n",
    "def get_movie_list(genre_ids, min_rating, page=1, min_vote_ct=100):\n",
    "    params = {\"api_key\": api_key, \n",
    "            \"language\": \"en-US\", \n",
    "            \"page\": \"{}\".format(page),\n",
    "            \"sort_by\": \"popularity.desc\", \n",
    "            \"with_genres\": \"{}\".format(genre_ids),\n",
    "            \"vote_count.gte\": \"{}\".format(min_vote_ct),\n",
    "            \"vote_average.gte\": \"{}\".format(min_rating)}\n",
    "    \n",
    "    # Send a GET request to the API endpoint with the query parameters\n",
    "    response = requests.get(discover_URL, params=params)\n",
    "    data = json.loads(response.text)\n",
    "    movies = data[\"results\"]\n",
    "\n",
    "    print(\"get_movie_list fetched: {} results:\".format(len(movies)))\n",
    "    # Print the list of movie titles\n",
    "    for movie in movies[:5]:\n",
    "        id = movie[\"id\"]\n",
    "        title = movie[\"title\"]\n",
    "        #print(title)\n",
    "        #get_movie_details(id)\n",
    "        #print(\"\\n\")"
   ]
  },
  {
   "cell_type": "code",
   "execution_count": 37,
   "metadata": {},
   "outputs": [
    {
     "name": "stdout",
     "output_type": "stream",
     "text": [
      "Movie ID: 419704\n",
      "Movie ID: 577922\n",
      "Movie ID: 27205\n",
      "Movie ID: 77\n",
      "[419704, 577922, 27205, 77]\n",
      "Title: Ad Astra\n",
      "Genres: Science Fiction, Drama\n",
      "Vote average: 6.099\n",
      "Vote count: 5934\n",
      "Director: James Gray\n",
      "Duration in minutes: 123\n",
      "Main cast: Brad Pitt, Tommy Lee Jones, Ruth Negga, John Ortiz, Liv Tyler\n",
      "Title: Tenet\n",
      "Genres: Action, Thriller, Science Fiction\n",
      "Vote average: 7.204\n",
      "Vote count: 8228\n",
      "Director: Christopher Nolan\n",
      "Duration in minutes: 150\n",
      "Main cast: John David Washington, Robert Pattinson, Elizabeth Debicki, Kenneth Branagh, Dimple Kapadia\n",
      "Title: Inception\n",
      "Genres: Action, Science Fiction, Adventure\n",
      "Vote average: 8.361\n",
      "Vote count: 33560\n",
      "Director: Christopher Nolan\n",
      "Duration in minutes: 148\n",
      "Main cast: Leonardo DiCaprio, Joseph Gordon-Levitt, Ken Watanabe, Tom Hardy, Elliot Page\n",
      "Title: Memento\n",
      "Genres: Mystery, Thriller\n",
      "Vote average: 8.19\n",
      "Vote count: 13226\n",
      "Director: Christopher Nolan\n",
      "Duration in minutes: 113\n",
      "Main cast: Guy Pearce, Carrie-Anne Moss, Joe Pantoliano, Mark Boone Junior, Russ Fega\n"
     ]
    }
   ],
   "source": [
    "temp_person = Person(\"Peter\", [\"Action\", \"Thriller\", \"Science Fiction\", \"Adventure\"])\n",
    "temp_person.movies_to_ids(get_movie_ID=get_movie_ID)\n",
    "for elem in temp_person.fav_movies:\n",
    "    get_movie_details(elem)\n",
    "    "
   ]
  },
  {
   "cell_type": "code",
   "execution_count": null,
   "metadata": {},
   "outputs": [],
   "source": [
    "# CREATE DATAFRAME OF USER PREFERENCES\n"
   ]
  },
  {
   "cell_type": "code",
   "execution_count": 47,
   "metadata": {},
   "outputs": [
    {
     "name": "stdout",
     "output_type": "stream",
     "text": [
      "get_movie_list fetched: 20 results:\n"
     ]
    }
   ],
   "source": [
    "relevant_ids = get_genre_ids(temp_person, get_genre_dict())  # FETCH IDs of specified genres\n",
    "\n",
    "for i in range(1, 2):\n",
    "    get_movie_list(genre_ids=relevant_ids, min_rating=5, page=i)"
   ]
  }
 ],
 "metadata": {
  "kernelspec": {
   "display_name": "Practical_4",
   "language": "python",
   "name": "python3"
  },
  "language_info": {
   "codemirror_mode": {
    "name": "ipython",
    "version": 3
   },
   "file_extension": ".py",
   "mimetype": "text/x-python",
   "name": "python",
   "nbconvert_exporter": "python",
   "pygments_lexer": "ipython3",
   "version": "3.10.11"
  },
  "orig_nbformat": 4
 },
 "nbformat": 4,
 "nbformat_minor": 2
}
