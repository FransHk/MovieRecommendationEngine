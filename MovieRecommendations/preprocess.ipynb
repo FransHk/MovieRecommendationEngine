{
 "cells": [
  {
   "cell_type": "code",
   "execution_count": 1,
   "metadata": {},
   "outputs": [],
   "source": [
    "import pandas as pd\n",
    "import numpy as np\n",
    "from sklearn import svm\n",
    "from sklearn.feature_extraction.text import CountVectorizer\n",
    "from sklearn.model_selection import train_test_split\n",
    "from sklearn.cluster import KMeans\n",
    "from collections import Counter\n",
    "import matplotlib.pyplot as plt\n",
    "from API_service import get_movie_details\n",
    "# Autoreload .py files in external modules\n",
    "%load_ext autoreload\n",
    "%autoreload 2"
   ]
  },
  {
   "cell_type": "code",
   "execution_count": 7,
   "metadata": {},
   "outputs": [
    {
     "name": "stdout",
     "output_type": "stream",
     "text": [
      "Shape of ratings dataset is:  (12981742, 4) \n",
      "\n",
      "Max values in dataset are \n",
      " userId       2.708960e+05\n",
      "movieId      1.762710e+05\n",
      "rating       5.000000e+00\n",
      "timestamp    1.501829e+09\n",
      "dtype: float64 \n",
      "\n",
      "Min values in dataset are \n",
      " userId               1.0\n",
      "movieId              1.0\n",
      "rating               4.0\n",
      "timestamp    789652004.0\n",
      "dtype: float64 \n",
      "\n"
     ]
    }
   ],
   "source": [
    "ratings = pd.read_csv('data/raw/ratings.csv')\n",
    "ratings = ratings[ratings['rating'] >= 4]\n",
    "\n",
    "\n",
    "usecols = ['userId', 'movieId','rating']\n",
    "print('Shape of ratings dataset is: ',ratings.shape, '\\n')\n",
    "print('Max values in dataset are \\n',ratings.max(), '\\n')\n",
    "print('Min values in dataset are \\n',ratings.min(), '\\n') "
   ]
  },
  {
   "cell_type": "code",
   "execution_count": 8,
   "metadata": {},
   "outputs": [
    {
     "name": "stdout",
     "output_type": "stream",
     "text": [
      "Users: 265072 and unique movie IDs: 32028\n"
     ]
    },
    {
     "ename": "KeyboardInterrupt",
     "evalue": "",
     "output_type": "error",
     "traceback": [
      "\u001b[1;31m---------------------------------------------------------------------------\u001b[0m",
      "\u001b[1;31mKeyboardInterrupt\u001b[0m                         Traceback (most recent call last)",
      "Cell \u001b[1;32mIn[8], line 14\u001b[0m\n\u001b[0;32m     11\u001b[0m \u001b[39mprint\u001b[39m(\u001b[39m\"\u001b[39m\u001b[39mUsers: \u001b[39m\u001b[39m{}\u001b[39;00m\u001b[39m and unique movie IDs: \u001b[39m\u001b[39m{}\u001b[39;00m\u001b[39m\"\u001b[39m\u001b[39m.\u001b[39mformat(total_users, total_movies))\n\u001b[0;32m     13\u001b[0m \u001b[39m# # Create new column that takes movieId and uses get_unique_id to create a unique id for each movie\u001b[39;00m\n\u001b[1;32m---> 14\u001b[0m users_fav_movies[\u001b[39m'\u001b[39m\u001b[39muniqueId\u001b[39m\u001b[39m'\u001b[39m] \u001b[39m=\u001b[39m users_fav_movies[\u001b[39m'\u001b[39;49m\u001b[39mmovieId\u001b[39;49m\u001b[39m'\u001b[39;49m]\u001b[39m.\u001b[39;49mapply(\u001b[39mlambda\u001b[39;49;00m x: get_unique_id(x))\n",
      "File \u001b[1;32mc:\\Users\\frans\\AppData\\Local\\Programs\\Python\\Python310\\lib\\site-packages\\pandas\\core\\series.py:4626\u001b[0m, in \u001b[0;36mSeries.apply\u001b[1;34m(self, func, convert_dtype, args, **kwargs)\u001b[0m\n\u001b[0;32m   4516\u001b[0m \u001b[39mdef\u001b[39;00m \u001b[39mapply\u001b[39m(\n\u001b[0;32m   4517\u001b[0m     \u001b[39mself\u001b[39m,\n\u001b[0;32m   4518\u001b[0m     func: AggFuncType,\n\u001b[1;32m   (...)\u001b[0m\n\u001b[0;32m   4521\u001b[0m     \u001b[39m*\u001b[39m\u001b[39m*\u001b[39mkwargs,\n\u001b[0;32m   4522\u001b[0m ) \u001b[39m-\u001b[39m\u001b[39m>\u001b[39m DataFrame \u001b[39m|\u001b[39m Series:\n\u001b[0;32m   4523\u001b[0m \u001b[39m    \u001b[39m\u001b[39m\"\"\"\u001b[39;00m\n\u001b[0;32m   4524\u001b[0m \u001b[39m    Invoke function on values of Series.\u001b[39;00m\n\u001b[0;32m   4525\u001b[0m \n\u001b[1;32m   (...)\u001b[0m\n\u001b[0;32m   4624\u001b[0m \u001b[39m    dtype: float64\u001b[39;00m\n\u001b[0;32m   4625\u001b[0m \u001b[39m    \"\"\"\u001b[39;00m\n\u001b[1;32m-> 4626\u001b[0m     \u001b[39mreturn\u001b[39;00m SeriesApply(\u001b[39mself\u001b[39;49m, func, convert_dtype, args, kwargs)\u001b[39m.\u001b[39;49mapply()\n",
      "File \u001b[1;32mc:\\Users\\frans\\AppData\\Local\\Programs\\Python\\Python310\\lib\\site-packages\\pandas\\core\\apply.py:1025\u001b[0m, in \u001b[0;36mSeriesApply.apply\u001b[1;34m(self)\u001b[0m\n\u001b[0;32m   1022\u001b[0m     \u001b[39mreturn\u001b[39;00m \u001b[39mself\u001b[39m\u001b[39m.\u001b[39mapply_str()\n\u001b[0;32m   1024\u001b[0m \u001b[39m# self.f is Callable\u001b[39;00m\n\u001b[1;32m-> 1025\u001b[0m \u001b[39mreturn\u001b[39;00m \u001b[39mself\u001b[39;49m\u001b[39m.\u001b[39;49mapply_standard()\n",
      "File \u001b[1;32mc:\\Users\\frans\\AppData\\Local\\Programs\\Python\\Python310\\lib\\site-packages\\pandas\\core\\apply.py:1076\u001b[0m, in \u001b[0;36mSeriesApply.apply_standard\u001b[1;34m(self)\u001b[0m\n\u001b[0;32m   1074\u001b[0m     \u001b[39melse\u001b[39;00m:\n\u001b[0;32m   1075\u001b[0m         values \u001b[39m=\u001b[39m obj\u001b[39m.\u001b[39mastype(\u001b[39mobject\u001b[39m)\u001b[39m.\u001b[39m_values\n\u001b[1;32m-> 1076\u001b[0m         mapped \u001b[39m=\u001b[39m lib\u001b[39m.\u001b[39;49mmap_infer(\n\u001b[0;32m   1077\u001b[0m             values,\n\u001b[0;32m   1078\u001b[0m             f,\n\u001b[0;32m   1079\u001b[0m             convert\u001b[39m=\u001b[39;49m\u001b[39mself\u001b[39;49m\u001b[39m.\u001b[39;49mconvert_dtype,\n\u001b[0;32m   1080\u001b[0m         )\n\u001b[0;32m   1082\u001b[0m \u001b[39mif\u001b[39;00m \u001b[39mlen\u001b[39m(mapped) \u001b[39mand\u001b[39;00m \u001b[39misinstance\u001b[39m(mapped[\u001b[39m0\u001b[39m], ABCSeries):\n\u001b[0;32m   1083\u001b[0m     \u001b[39m# GH#43986 Need to do list(mapped) in order to get treated as nested\u001b[39;00m\n\u001b[0;32m   1084\u001b[0m     \u001b[39m#  See also GH#25959 regarding EA support\u001b[39;00m\n\u001b[0;32m   1085\u001b[0m     \u001b[39mreturn\u001b[39;00m obj\u001b[39m.\u001b[39m_constructor_expanddim(\u001b[39mlist\u001b[39m(mapped), index\u001b[39m=\u001b[39mobj\u001b[39m.\u001b[39mindex)\n",
      "File \u001b[1;32mc:\\Users\\frans\\AppData\\Local\\Programs\\Python\\Python310\\lib\\site-packages\\pandas\\_libs\\lib.pyx:2834\u001b[0m, in \u001b[0;36mpandas._libs.lib.map_infer\u001b[1;34m()\u001b[0m\n",
      "Cell \u001b[1;32mIn[8], line 14\u001b[0m, in \u001b[0;36m<lambda>\u001b[1;34m(x)\u001b[0m\n\u001b[0;32m     11\u001b[0m \u001b[39mprint\u001b[39m(\u001b[39m\"\u001b[39m\u001b[39mUsers: \u001b[39m\u001b[39m{}\u001b[39;00m\u001b[39m and unique movie IDs: \u001b[39m\u001b[39m{}\u001b[39;00m\u001b[39m\"\u001b[39m\u001b[39m.\u001b[39mformat(total_users, total_movies))\n\u001b[0;32m     13\u001b[0m \u001b[39m# # Create new column that takes movieId and uses get_unique_id to create a unique id for each movie\u001b[39;00m\n\u001b[1;32m---> 14\u001b[0m users_fav_movies[\u001b[39m'\u001b[39m\u001b[39muniqueId\u001b[39m\u001b[39m'\u001b[39m] \u001b[39m=\u001b[39m users_fav_movies[\u001b[39m'\u001b[39m\u001b[39mmovieId\u001b[39m\u001b[39m'\u001b[39m]\u001b[39m.\u001b[39mapply(\u001b[39mlambda\u001b[39;00m x: get_unique_id(x))\n",
      "Cell \u001b[1;32mIn[6], line 4\u001b[0m, in \u001b[0;36mget_unique_id\u001b[1;34m(x)\u001b[0m\n\u001b[0;32m      3\u001b[0m \u001b[39mdef\u001b[39;00m \u001b[39mget_unique_id\u001b[39m(x):\n\u001b[1;32m----> 4\u001b[0m     index \u001b[39m=\u001b[39m np\u001b[39m.\u001b[39;49mwhere(movie_ids \u001b[39m==\u001b[39;49m x)\n\u001b[0;32m      5\u001b[0m     \u001b[39mreturn\u001b[39;00m index[\u001b[39m0\u001b[39m][\u001b[39m0\u001b[39m]\n",
      "File \u001b[1;32m<__array_function__ internals>:177\u001b[0m, in \u001b[0;36mwhere\u001b[1;34m(*args, **kwargs)\u001b[0m\n",
      "\u001b[1;31mKeyboardInterrupt\u001b[0m: "
     ]
    }
   ],
   "source": [
    "# Create subset for user fav movies\n",
    "users_fav_movies = ratings.loc[:, ['userId', 'movieId']]\n",
    "users_fav_movies = ratings.reset_index(drop = True)\n",
    "\n",
    "users = np.unique(users_fav_movies['userId'])\n",
    "movie_ids = np.unique(users_fav_movies['movieId'])\n",
    "\n",
    "total_users = len(users)\n",
    "total_movies = len(movie_ids)\n",
    "\n",
    "print(\"Users: {} and unique movie IDs: {}\".format(total_users, total_movies))\n",
    "\n",
    "# # Create new column that takes movieId and uses get_unique_id to create a unique id for each movie\n",
    "users_fav_movies['uniqueId'] = users_fav_movies['movieId'].apply(lambda x: get_unique_id(x))\n"
   ]
  },
  {
   "cell_type": "code",
   "execution_count": 6,
   "metadata": {},
   "outputs": [],
   "source": [
    "# Map movie ID to its index in the list\n",
    "# of all unique movie IDs\n",
    "def get_unique_id(x):\n",
    "    index = np.where(movie_ids == x)\n",
    "    return index[0][0]\n",
    "\n",
    "# One-hot id to MovieId\n",
    "def get_original_id(x, verbose=False):\n",
    "    if(verbose):\n",
    "        print(\"Converted one-hot movieId: {} to original movieId: {}\".format(x, movie_ids[x]))\n",
    "    return movie_ids[x]"
   ]
  },
  {
   "cell_type": "code",
   "execution_count": null,
   "metadata": {},
   "outputs": [],
   "source": [
    "users_fav_movies.to_csv('data/preprocessed/preprocessed_ratings.csv', index=False)\n",
    "users_fav_movies.head()\n"
   ]
  }
 ],
 "metadata": {
  "kernelspec": {
   "display_name": "Python 3",
   "language": "python",
   "name": "python3"
  },
  "language_info": {
   "codemirror_mode": {
    "name": "ipython",
    "version": 3
   },
   "file_extension": ".py",
   "mimetype": "text/x-python",
   "name": "python",
   "nbconvert_exporter": "python",
   "pygments_lexer": "ipython3",
   "version": "3.10.11"
  },
  "orig_nbformat": 4
 },
 "nbformat": 4,
 "nbformat_minor": 2
}
